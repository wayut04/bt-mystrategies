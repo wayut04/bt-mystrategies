{
 "cells": [
  {
   "cell_type": "markdown",
   "metadata": {},
   "source": [
    "# backtrader snippet"
   ]
  },
  {
   "cell_type": "markdown",
   "metadata": {},
   "source": [
    "Using cross-up\n",
    "https://www.backtrader.com/docu/indautoref/#crossup"
   ]
  },
  {
   "cell_type": "code",
   "execution_count": null,
   "metadata": {},
   "outputs": [],
   "source": [
    "class BaseStrategy(bt.Strategy):\n",
    "    params = dict(\n",
    "        fast_ma=10,\n",
    "        slow_ma=20,\n",
    "    )\n",
    "\n",
    "    def __init__(self):\n",
    "        # omitting a data implies self.datas[0] (aka self.data and self.data0)\n",
    "        fast_ma = bt.ind.EMA(period=self.p.fast_ma)\n",
    "        slow_ma = bt.ind.EMA(period=self.p.slow_ma)\n",
    "        # our entry point\n",
    "        self.crossup = bt.ind.CrossUp(fast_ma, slow_ma)\n",
    "        \n",
    "class ManualStopOrStopTrail(BaseStrategy):\n",
    "    params = dict(\n",
    "        stop_loss=0.02,  # price is 2% less than the entry point\n",
    "        trail=False,\n",
    "    )\n",
    "\n",
    "    def notify_order(self, order):\n",
    "        if not order.status == order.Completed:\n",
    "            return  # discard any other notification\n",
    "\n",
    "        if not self.position:  # we left the market\n",
    "            print('SELL@price: {:.2f}'.format(order.executed.price))\n",
    "            return\n",
    "\n",
    "        # We have entered the market\n",
    "        print('BUY @price: {:.2f}'.format(order.executed.price))\n",
    "\n",
    "        if not self.p.trail:\n",
    "            stop_price = order.executed.price * (1.0 - self.p.stop_loss)\n",
    "            self.sell(exectype=bt.Order.Stop, price=stop_price)\n",
    "        else:\n",
    "            self.sell(exectype=bt.Order.StopTrail, trailamount=self.p.trail)\n",
    "\n",
    "    def next(self):\n",
    "        if not self.position and self.crossup > 0:\n",
    "            # not in the market and signal triggered\n",
    "            self.buy()\n"
   ]
  },
  {
   "cell_type": "code",
   "execution_count": null,
   "metadata": {},
   "outputs": [],
   "source": []
  }
 ],
 "metadata": {
  "kernelspec": {
   "display_name": "Python 3.7.5 64-bit",
   "language": "python",
   "name": "python37564bitf677f1086e96488fac9bd8e3a20c0649"
  },
  "language_info": {
   "codemirror_mode": {
    "name": "ipython",
    "version": 3
   },
   "file_extension": ".py",
   "mimetype": "text/x-python",
   "name": "python",
   "nbconvert_exporter": "python",
   "pygments_lexer": "ipython3",
   "version": "3.7.5"
  },
  "varInspector": {
   "cols": {
    "lenName": 16,
    "lenType": 16,
    "lenVar": 40
   },
   "kernels_config": {
    "python": {
     "delete_cmd_postfix": "",
     "delete_cmd_prefix": "del ",
     "library": "var_list.py",
     "varRefreshCmd": "print(var_dic_list())"
    },
    "r": {
     "delete_cmd_postfix": ") ",
     "delete_cmd_prefix": "rm(",
     "library": "var_list.r",
     "varRefreshCmd": "cat(var_dic_list()) "
    }
   },
   "types_to_exclude": [
    "module",
    "function",
    "builtin_function_or_method",
    "instance",
    "_Feature"
   ],
   "window_display": false
  }
 },
 "nbformat": 4,
 "nbformat_minor": 4
}
