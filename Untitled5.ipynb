{
 "cells": [
  {
   "cell_type": "code",
   "execution_count": 1,
   "metadata": {},
   "outputs": [],
   "source": [
    "#import datetime\n"
   ]
  },
  {
   "cell_type": "code",
   "execution_count": 2,
   "metadata": {},
   "outputs": [],
   "source": [
    "import collections\n",
    "import backtrader as bt\n",
    "import os\n",
    "#os.system('pwd')"
   ]
  },
  {
   "cell_type": "code",
   "execution_count": 25,
   "metadata": {},
   "outputs": [
    {
     "name": "stdout",
     "output_type": "stream",
     "text": [
      "iconv -f UTF-16 -t UTF-8 -o /home/awahyudi/Downloads/datas/EURUSD-M5-utf8.csv EURUSD-M5.csv\n"
     ]
    }
   ],
   "source": [
    "to_str = collections.OrderedDict (\n",
    "    (\n",
    "        (bt.TimeFrame.Ticks, 'T'),\n",
    "        (bt.TimeFrame.Minutes, 'M'),\n",
    "        (bt.TimeFrame.Days, 'Day'),\n",
    "        (bt.TimeFrame.Weeks, 'W'),\n",
    "        (bt.TimeFrame.Months, 'M'),\n",
    "        (bt.TimeFrame.Years, 'Y'),\n",
    "    )\n",
    ")\n",
    "\n",
    "'''\n",
    "    bt.TimeFrame.Ticks = 'T',\n",
    "    bt.TimeFrame.Seconds = 'S',\n",
    "    bt.TimeFrame.Minutes = 'M',\n",
    "    bt.TimeFrame.Hours = 'H',\n",
    "    bt.TimeFrame.Days = 'D',\n",
    "'''\n",
    "\n",
    "pcomp = 5\n",
    "ppair='EURUSD'\n",
    "str2='-M5'\n",
    "ptf = bt.TimeFrame.Minutes\n",
    "\n",
    "#print(str1+str2+'.csv')\n",
    "#print(str1+str2+'-utf.csv')\n",
    "#print(f'{str1}-{to_str[bt.TimeFrame.Minutes]}{compression}.csv')\n",
    "#str2=f'{str1}-{to_str[bt.TimeFrame.Minutes]}{compression}-utf8.csv'\n",
    "#print(str2)\n",
    "cmd = f'iconv -f UTF-16 -t UTF-8 -o /home/awahyudi/Downloads/datas/{ppair}-{to_str[ptf]}{pcomp}-utf8.csv {ppair}-{to_str[ptf]}{pcomp}.csv'\n",
    "print(cmd)\n"
   ]
  },
  {
   "cell_type": "code",
   "execution_count": null,
   "metadata": {},
   "outputs": [],
   "source": []
  }
 ],
 "metadata": {
  "kernelspec": {
   "display_name": "Python (env)",
   "language": "python",
   "name": "python37564bitf677f1086e96488fac9bd8e3a20c0649"
  },
  "language_info": {
   "codemirror_mode": {
    "name": "ipython",
    "version": 3
   },
   "file_extension": ".py",
   "mimetype": "text/x-python",
   "name": "python",
   "nbconvert_exporter": "python",
   "pygments_lexer": "ipython3",
   "version": "3.7.5"
  },
  "varInspector": {
   "cols": {
    "lenName": 16,
    "lenType": 16,
    "lenVar": 40
   },
   "kernels_config": {
    "python": {
     "delete_cmd_postfix": "",
     "delete_cmd_prefix": "del ",
     "library": "var_list.py",
     "varRefreshCmd": "print(var_dic_list())"
    },
    "r": {
     "delete_cmd_postfix": ") ",
     "delete_cmd_prefix": "rm(",
     "library": "var_list.r",
     "varRefreshCmd": "cat(var_dic_list()) "
    }
   },
   "types_to_exclude": [
    "module",
    "function",
    "builtin_function_or_method",
    "instance",
    "_Feature"
   ],
   "window_display": false
  }
 },
 "nbformat": 4,
 "nbformat_minor": 4
}
