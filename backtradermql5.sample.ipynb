{
 "cells": [
  {
   "cell_type": "code",
   "execution_count": 1,
   "metadata": {},
   "outputs": [],
   "source": [
    "import zmq\n",
    "\n",
    "class MTraderAPI:\n",
    "    def __init__(self, host=None):\n",
    "        self.HOST = host or '192.168.100.110'\n",
    "        self.SYS_PORT = 15555       # REP/REQ port\n",
    "        self.DATA_PORT = 15556      # PUSH/PULL port\n",
    "        self.LIVE_PORT = 15557      # PUSH/PULL port\n",
    "        self.EVENTS_PORT = 15558    # PUSH/PULL port\n",
    "\n",
    "        # ZeroMQ timeout in seconds\n",
    "        sys_timeout = 1\n",
    "        data_timeout = 10\n",
    "\n",
    "        # initialise ZMQ context\n",
    "        context = zmq.Context()\n",
    "\n",
    "        # connect to server sockets\n",
    "        try:\n",
    "            self.sys_socket = context.socket(zmq.REQ)\n",
    "            # set port timeout\n",
    "            self.sys_socket.RCVTIMEO = sys_timeout * 1000\n",
    "            self.sys_socket.connect('tcp://{}:{}'.format(self.HOST, self.SYS_PORT))\n",
    "\n",
    "            self.data_socket = context.socket(zmq.PULL)\n",
    "            # set port timeout\n",
    "            self.data_socket.RCVTIMEO = data_timeout * 1000\n",
    "            self.data_socket.connect('tcp://{}:{}'.format(self.HOST, self.DATA_PORT))\n",
    "        except zmq.ZMQError:\n",
    "            raise zmq.ZMQBindError(\"Binding ports ERROR\")\n",
    "\n",
    "    def _send_request(self, data: dict) -> None:\n",
    "        \"\"\"Send request to server via ZeroMQ System socket\"\"\"\n",
    "        try:\n",
    "            self.sys_socket.send_json(data)\n",
    "            msg = self.sys_socket.recv_string()\n",
    "            # terminal received the request\n",
    "            assert msg == 'OK', 'Something wrong on server side'\n",
    "        except AssertionError as err:\n",
    "            raise zmq.NotDone(err)\n",
    "        except zmq.ZMQError:\n",
    "            raise zmq.NotDone(\"Sending request ERROR\")\n",
    "\n",
    "    def _pull_reply(self):\n",
    "        \"\"\"Get reply from server via Data socket with timeout\"\"\"\n",
    "        try:\n",
    "            msg = self.data_socket.recv_json()\n",
    "        except zmq.ZMQError:\n",
    "            raise zmq.NotDone('Data socket timeout ERROR')\n",
    "        return msg\n",
    "\n",
    "    def live_socket(self, context=None):\n",
    "        \"\"\"Connect to socket in a ZMQ context\"\"\"\n",
    "        try:\n",
    "            context = context or zmq.Context.instance()\n",
    "            socket = context.socket(zmq.PULL)\n",
    "            socket.connect('tcp://{}:{}'.format(self.HOST, self.LIVE_PORT))\n",
    "        except zmq.ZMQError:\n",
    "            raise zmq.ZMQBindError(\"Live port connection ERROR\")\n",
    "        return socket\n",
    "\n",
    "    def streaming_socket(self, context=None):\n",
    "        \"\"\"Connect to socket in a ZMQ context\"\"\"\n",
    "        try:\n",
    "            context = context or zmq.Context.instance()\n",
    "            socket = context.socket(zmq.PULL)\n",
    "            socket.connect('tcp://{}:{}'.format(self.HOST, self.EVENTS_PORT))\n",
    "        except zmq.ZMQError:\n",
    "            raise zmq.ZMQBindError(\"Data port connection ERROR\")\n",
    "        return socket\n",
    "\n",
    "    def construct_and_send(self, **kwargs) -> dict:\n",
    "        \"\"\"Construct a request dictionary from default and send it to server\"\"\"\n",
    "\n",
    "        # default dictionary\n",
    "        request = {\n",
    "            \"action\": None,\n",
    "            \"actionType\": None,\n",
    "            \"symbol\": None,\n",
    "            \"chartTF\": None,\n",
    "            \"fromDate\": None,\n",
    "            \"toDate\": None,\n",
    "            \"id\": None,\n",
    "            \"magic\": None,\n",
    "            \"volume\": None,\n",
    "            \"price\": None,\n",
    "            \"stoploss\": None,\n",
    "            \"takeprofit\": None,\n",
    "            \"expiration\": None,\n",
    "            \"deviation\": None,\n",
    "            \"comment\": None\n",
    "        }\n",
    "\n",
    "        # update dict values if exist\n",
    "        for key, value in kwargs.items():\n",
    "            if key in request:\n",
    "                request[key] = value\n",
    "            else:\n",
    "                raise KeyError('Unknown key in **kwargs ERROR')\n",
    "\n",
    "        # send dict to server\n",
    "        self._send_request(request)\n",
    "\n",
    "        # return server reply\n",
    "        return self._pull_reply()\n",
    "    \n",
    "api = MTraderAPI()"
   ]
  },
  {
   "cell_type": "code",
   "execution_count": 2,
   "metadata": {
    "scrolled": true
   },
   "outputs": [
    {
     "name": "stdout",
     "output_type": "stream",
     "text": [
      "{'error': False, 'broker': 'MetaQuotes Software Corp.', 'currency': 'USD', 'server': 'MetaQuotes-Demo', 'trading_allowed': 1, 'bot_trading': 1, 'balance': 9244.8, 'equity': 9244.8, 'margin': 0.0, 'margin_free': 9244.8, 'margin_level': 0.0}\n"
     ]
    }
   ],
   "source": [
    "rep = api.construct_and_send(action=\"ACCOUNT\")\n",
    "print(rep)"
   ]
  },
  {
   "cell_type": "code",
   "execution_count": 7,
   "metadata": {},
   "outputs": [
    {
     "data": {
      "text/plain": [
       "1583946000.0"
      ]
     },
     "execution_count": 7,
     "metadata": {},
     "output_type": "execute_result"
    }
   ],
   "source": [
    "import time\n",
    "import datetime\n",
    "s = \"12/3/2020\"\n",
    "time.mktime(datetime.datetime.strptime(s, \"%d/%m/%Y\").timetuple())"
   ]
  },
  {
   "cell_type": "code",
   "execution_count": 16,
   "metadata": {},
   "outputs": [
    {
     "name": "stdout",
     "output_type": "stream",
     "text": [
      "dt_object = 2020-03-12 00:30:00\n"
     ]
    }
   ],
   "source": [
    "import datetime\n",
    "timestamp = 1583947800\n",
    "dt_object = datetime.datetime.fromtimestamp(timestamp)\n",
    "\n",
    "print(\"dt_object =\", dt_object)\n",
    "#print(\"type(dt_object) =\", type(dt_object))"
   ]
  },
  {
   "cell_type": "code",
   "execution_count": 3,
   "metadata": {},
   "outputs": [
    {
     "name": "stdout",
     "output_type": "stream",
     "text": [
      "{'data': [[1583946000, 1.13068, 1.13089, 1.12572, 1.128, 8181.0], [1583949600, 1.12797, 1.12807, 1.12603, 1.12686, 7175.0], [1583953200, 1.12685, 1.12884, 1.12666, 1.12845, 7056.0], [1583956800, 1.12845, 1.12878, 1.12717, 1.12816, 6412.0], [1583960400, 1.12815, 1.12825, 1.12685, 1.12725, 8868.0], [1583964000, 1.12725, 1.12796, 1.12682, 1.12682, 2357.0], [1583967600, 1.12682, 1.12689, 1.125, 1.12607, 906.0], [1583971200, 1.12602, 1.12663, 1.12543, 1.12585, 2272.0], [1583974800, 1.12585, 1.12629, 1.12541, 1.12613, 2925.0], [1583978400, 1.12613, 1.1276, 1.12594, 1.12714, 3153.0], [1583982000, 1.12714, 1.13332, 1.12662, 1.13189, 8852.0], [1583985600, 1.13189, 1.13314, 1.13055, 1.13209, 7500.0], [1583989200, 1.13207, 1.13209, 1.13075, 1.1313, 4166.0], [1583992800, 1.1313, 1.13135, 1.12854, 1.12959, 4996.0], [1583996400, 1.12957, 1.1299, 1.12911, 1.1293, 2653.0], [1584000000, 1.1293, 1.12975, 1.12854, 1.12925, 5093.0], [1584003600, 1.12926, 1.13195, 1.12889, 1.13119, 8360.0], [1584007200, 1.13119, 1.13128, 1.12536, 1.12674, 7450.0], [1584010800, 1.12675, 1.12776, 1.12371, 1.12448, 6208.0], [1584014400, 1.12438, 1.12457, 1.12272, 1.12334, 5851.0], [1584018000, 1.12334, 1.12426, 1.12114, 1.12371, 5449.0], [1584021600, 1.12372, 1.13011, 1.11977, 1.12151, 13485.0], [1584025200, 1.12151, 1.12532, 1.12103, 1.1239, 11204.0], [1584028800, 1.1239, 1.1239, 1.11319, 1.11448, 13244.0], [1584032400, 1.11448, 1.11486, 1.10803, 1.10816, 13735.0], [1584036000, 1.10816, 1.11639, 1.10554, 1.1146, 11886.0], [1584039600, 1.11459, 1.11963, 1.1144, 1.1185, 13038.0], [1584043200, 1.11853, 1.12164, 1.11635, 1.11774, 8634.0], [1584046800, 1.11772, 1.12017, 1.11705, 1.11805, 6385.0], [1584050400, 1.11797, 1.12261, 1.11598, 1.1183, 4866.0], [1584054000, 1.11848, 1.12025, 1.11597, 1.11667, 1479.0], [1584057600, 1.11686, 1.11894, 1.11653, 1.11763, 4498.0], [1584061200, 1.11762, 1.1188, 1.11742, 1.11822, 2548.0], [1584064800, 1.11822, 1.11826, 1.11523, 1.11663, 6960.0], [1584068400, 1.11663, 1.11885, 1.11656, 1.11864, 4097.0], [1584072000, 1.11864, 1.12073, 1.11766, 1.12068, 6675.0], [1584075600, 1.12068, 1.12178, 1.11898, 1.12132, 7113.0], [1584079200, 1.12132, 1.12211, 1.12046, 1.12188, 4659.0], [1584082800, 1.12191, 1.12205, 1.11946, 1.12022, 7604.0], [1584086400, 1.12022, 1.12091, 1.11902, 1.11982, 8065.0], [1584090000, 1.11982, 1.12081, 1.11621, 1.11814, 11216.0], [1584093600, 1.11813, 1.12141, 1.11757, 1.12074, 7670.0], [1584097200, 1.12072, 1.12078, 1.11607, 1.11648, 5001.0], [1584100800, 1.11648, 1.11728, 1.11529, 1.11605, 4325.0]], 'symbol': 'EURUSD', 'timeframe': 'H1'}\n"
     ]
    }
   ],
   "source": [
    "rep = api.construct_and_send(action=\"HISTORY\", actionType=\"DATA\", symbol=\"EURUSD\", chartTF=\"H1\", fromDate=1583946000.0)\n",
    "print(rep)"
   ]
  },
  {
   "cell_type": "code",
   "execution_count": 4,
   "metadata": {},
   "outputs": [
    {
     "data": {
      "text/plain": [
       "datetime.datetime(2020, 3, 12, 0, 0)"
      ]
     },
     "execution_count": 4,
     "metadata": {},
     "output_type": "execute_result"
    }
   ],
   "source": [
    "import datetime\n",
    "datetime.datetime.now()\n",
    "datetime.datetime(2020,3,12)"
   ]
  },
  {
   "cell_type": "code",
   "execution_count": null,
   "metadata": {},
   "outputs": [],
   "source": []
  }
 ],
 "metadata": {
  "file_extension": ".py",
  "kernelspec": {
   "display_name": "Python 3",
   "language": "python",
   "name": "python3"
  },
  "language_info": {
   "codemirror_mode": {
    "name": "ipython",
    "version": 3
   },
   "file_extension": ".py",
   "mimetype": "text/x-python",
   "name": "python",
   "nbconvert_exporter": "python",
   "pygments_lexer": "ipython3",
   "version": "3.7.5"
  },
  "mimetype": "text/x-python",
  "name": "python",
  "npconvert_exporter": "python",
  "pygments_lexer": "ipython3",
  "varInspector": {
   "cols": {
    "lenName": 16,
    "lenType": 16,
    "lenVar": 40
   },
   "kernels_config": {
    "python": {
     "delete_cmd_postfix": "",
     "delete_cmd_prefix": "del ",
     "library": "var_list.py",
     "varRefreshCmd": "print(var_dic_list())"
    },
    "r": {
     "delete_cmd_postfix": ") ",
     "delete_cmd_prefix": "rm(",
     "library": "var_list.r",
     "varRefreshCmd": "cat(var_dic_list()) "
    }
   },
   "types_to_exclude": [
    "module",
    "function",
    "builtin_function_or_method",
    "instance",
    "_Feature"
   ],
   "window_display": false
  },
  "version": 3
 },
 "nbformat": 4,
 "nbformat_minor": 2
}
